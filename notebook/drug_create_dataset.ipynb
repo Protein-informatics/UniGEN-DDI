{
 "cells": [
  {
   "cell_type": "code",
   "execution_count": 1,
   "id": "a5ae78d5-a9f3-4a3f-91b6-946b6af896a5",
   "metadata": {
    "tags": []
   },
   "outputs": [],
   "source": [
    "import pandas as pd\n",
    "import matplotlib.pyplot as plt"
   ]
  },
  {
   "cell_type": "code",
   "execution_count": 2,
   "id": "f89d80a3-cdf1-4c6a-b4a5-d7b66ec0e374",
   "metadata": {
    "tags": []
   },
   "outputs": [],
   "source": [
    "drug_mapping = pd.read_csv(\"../input/dataset/edges/drug_mapping.txt\", sep = \"\\t\", names = [\"drug_id\", \"type\"])"
   ]
  },
  {
   "cell_type": "code",
   "execution_count": 3,
   "id": "88ee0366-8287-4615-8367-bde55c3f661e",
   "metadata": {
    "tags": []
   },
   "outputs": [],
   "source": [
    "drug_edges = pd.read_csv(\"../input/dataset/edges/drug_drug.txt\", sep = \" \", names = [\"drug_i\", \"drug_j\"])"
   ]
  },
  {
   "cell_type": "code",
   "execution_count": 4,
   "id": "c562b1bd-d2ee-4e0b-a868-2755497143cc",
   "metadata": {
    "tags": []
   },
   "outputs": [
    {
     "data": {
      "text/plain": [
       "12"
      ]
     },
     "execution_count": 4,
     "metadata": {},
     "output_type": "execute_result"
    }
   ],
   "source": [
    "drug_mapping[\"type\"].nunique()"
   ]
  },
  {
   "cell_type": "code",
   "execution_count": 5,
   "id": "f241aa7b-e272-4f66-8712-01731ccfbf44",
   "metadata": {
    "tags": []
   },
   "outputs": [
    {
     "name": "stdout",
     "output_type": "stream",
     "text": [
      "{'Whole body': 0, 'Nervous system': 1, 'Lymphatic system': 2, 'Musculoskeletal system': 3, 'Reproductive system': 4, 'Integumentary system': 5, 'Circulatory system': 6, 'Respiratory system': 7, 'Digestive system': 8, 'Urinary system': 9, 'Endocrine system': 10, 'Immune system': 11}\n"
     ]
    }
   ],
   "source": [
    "mapping_type = {k: e for e, k in enumerate(drug_mapping[\"type\"].unique().tolist())}\n",
    "print(mapping_type)\n",
    "drug_mapping[\"type_code\"] = drug_mapping[\"type\"].map(mapping_type)"
   ]
  },
  {
   "cell_type": "code",
   "execution_count": 6,
   "id": "c834b106-ebdd-4d0e-8973-7adce3adf00e",
   "metadata": {
    "tags": []
   },
   "outputs": [],
   "source": [
    "labels1 = []\n",
    "labels2 = []\n",
    "drug_map = drug_mapping[\"type_code\"].to_dict()\n",
    "for index, edge in drug_edges.iterrows():\n",
    "    n1, n2 = edge[\"drug_i\"], edge[\"drug_j\"]\n",
    "    n1, n2 = drug_map[n1], drug_map[n2]\n",
    "    labels1.append(n1)\n",
    "    labels2.append(n2)\n",
    "\n",
    "drug_edges[\"label1\"] = labels1\n",
    "drug_edges[\"label2\"] = labels2\n",
    "# for index, edge in drug_edges.iterrows():\n",
    "#     n1, n2 = edge[\"drug_i\"], edge[\"drug_j\"]\n",
    "#     n1, n2 = drug_map[n1], drug_map[n2]\n",
    "#     pairs[n1][n2] += 1\n",
    "#     pairs[n2][n1] += 1"
   ]
  },
  {
   "cell_type": "code",
   "execution_count": 7,
   "id": "6f289dd8-e5a1-4638-8c35-ef3b43431550",
   "metadata": {
    "tags": []
   },
   "outputs": [
    {
     "data": {
      "text/html": [
       "<div>\n",
       "<style scoped>\n",
       "    .dataframe tbody tr th:only-of-type {\n",
       "        vertical-align: middle;\n",
       "    }\n",
       "\n",
       "    .dataframe tbody tr th {\n",
       "        vertical-align: top;\n",
       "    }\n",
       "\n",
       "    .dataframe thead th {\n",
       "        text-align: right;\n",
       "    }\n",
       "</style>\n",
       "<table border=\"1\" class=\"dataframe\">\n",
       "  <thead>\n",
       "    <tr style=\"text-align: right;\">\n",
       "      <th></th>\n",
       "      <th>drug_i</th>\n",
       "      <th>drug_j</th>\n",
       "      <th>label1</th>\n",
       "      <th>label2</th>\n",
       "    </tr>\n",
       "  </thead>\n",
       "  <tbody>\n",
       "    <tr>\n",
       "      <th>0</th>\n",
       "      <td>0</td>\n",
       "      <td>31</td>\n",
       "      <td>0</td>\n",
       "      <td>1</td>\n",
       "    </tr>\n",
       "    <tr>\n",
       "      <th>1</th>\n",
       "      <td>0</td>\n",
       "      <td>38</td>\n",
       "      <td>0</td>\n",
       "      <td>6</td>\n",
       "    </tr>\n",
       "    <tr>\n",
       "      <th>2</th>\n",
       "      <td>0</td>\n",
       "      <td>284</td>\n",
       "      <td>0</td>\n",
       "      <td>1</td>\n",
       "    </tr>\n",
       "    <tr>\n",
       "      <th>3</th>\n",
       "      <td>0</td>\n",
       "      <td>216</td>\n",
       "      <td>0</td>\n",
       "      <td>1</td>\n",
       "    </tr>\n",
       "    <tr>\n",
       "      <th>4</th>\n",
       "      <td>0</td>\n",
       "      <td>384</td>\n",
       "      <td>0</td>\n",
       "      <td>10</td>\n",
       "    </tr>\n",
       "    <tr>\n",
       "      <th>...</th>\n",
       "      <td>...</td>\n",
       "      <td>...</td>\n",
       "      <td>...</td>\n",
       "      <td>...</td>\n",
       "    </tr>\n",
       "    <tr>\n",
       "      <th>165797</th>\n",
       "      <td>840</td>\n",
       "      <td>433</td>\n",
       "      <td>1</td>\n",
       "      <td>1</td>\n",
       "    </tr>\n",
       "    <tr>\n",
       "      <th>165798</th>\n",
       "      <td>840</td>\n",
       "      <td>637</td>\n",
       "      <td>1</td>\n",
       "      <td>0</td>\n",
       "    </tr>\n",
       "    <tr>\n",
       "      <th>165799</th>\n",
       "      <td>840</td>\n",
       "      <td>832</td>\n",
       "      <td>1</td>\n",
       "      <td>1</td>\n",
       "    </tr>\n",
       "    <tr>\n",
       "      <th>165800</th>\n",
       "      <td>840</td>\n",
       "      <td>235</td>\n",
       "      <td>1</td>\n",
       "      <td>1</td>\n",
       "    </tr>\n",
       "    <tr>\n",
       "      <th>165801</th>\n",
       "      <td>840</td>\n",
       "      <td>724</td>\n",
       "      <td>1</td>\n",
       "      <td>1</td>\n",
       "    </tr>\n",
       "  </tbody>\n",
       "</table>\n",
       "<p>165802 rows × 4 columns</p>\n",
       "</div>"
      ],
      "text/plain": [
       "        drug_i  drug_j  label1  label2\n",
       "0            0      31       0       1\n",
       "1            0      38       0       6\n",
       "2            0     284       0       1\n",
       "3            0     216       0       1\n",
       "4            0     384       0      10\n",
       "...        ...     ...     ...     ...\n",
       "165797     840     433       1       1\n",
       "165798     840     637       1       0\n",
       "165799     840     832       1       1\n",
       "165800     840     235       1       1\n",
       "165801     840     724       1       1\n",
       "\n",
       "[165802 rows x 4 columns]"
      ]
     },
     "execution_count": 7,
     "metadata": {},
     "output_type": "execute_result"
    }
   ],
   "source": [
    "drug_edges"
   ]
  },
  {
   "cell_type": "code",
   "execution_count": 8,
   "id": "ac0032e1-962f-4574-8aa0-0f3e5f7d5742",
   "metadata": {
    "tags": []
   },
   "outputs": [
    {
     "data": {
      "text/html": [
       "<div>\n",
       "<style scoped>\n",
       "    .dataframe tbody tr th:only-of-type {\n",
       "        vertical-align: middle;\n",
       "    }\n",
       "\n",
       "    .dataframe tbody tr th {\n",
       "        vertical-align: top;\n",
       "    }\n",
       "\n",
       "    .dataframe thead th {\n",
       "        text-align: right;\n",
       "    }\n",
       "</style>\n",
       "<table border=\"1\" class=\"dataframe\">\n",
       "  <thead>\n",
       "    <tr style=\"text-align: right;\">\n",
       "      <th></th>\n",
       "      <th>drug_i</th>\n",
       "      <th>drug_j</th>\n",
       "      <th>label1</th>\n",
       "      <th>label2</th>\n",
       "    </tr>\n",
       "  </thead>\n",
       "  <tbody>\n",
       "    <tr>\n",
       "      <th>0</th>\n",
       "      <td>0</td>\n",
       "      <td>31</td>\n",
       "      <td>0</td>\n",
       "      <td>1</td>\n",
       "    </tr>\n",
       "    <tr>\n",
       "      <th>1</th>\n",
       "      <td>0</td>\n",
       "      <td>38</td>\n",
       "      <td>0</td>\n",
       "      <td>6</td>\n",
       "    </tr>\n",
       "    <tr>\n",
       "      <th>2</th>\n",
       "      <td>0</td>\n",
       "      <td>284</td>\n",
       "      <td>0</td>\n",
       "      <td>1</td>\n",
       "    </tr>\n",
       "    <tr>\n",
       "      <th>3</th>\n",
       "      <td>0</td>\n",
       "      <td>216</td>\n",
       "      <td>0</td>\n",
       "      <td>1</td>\n",
       "    </tr>\n",
       "    <tr>\n",
       "      <th>4</th>\n",
       "      <td>0</td>\n",
       "      <td>384</td>\n",
       "      <td>0</td>\n",
       "      <td>10</td>\n",
       "    </tr>\n",
       "    <tr>\n",
       "      <th>...</th>\n",
       "      <td>...</td>\n",
       "      <td>...</td>\n",
       "      <td>...</td>\n",
       "      <td>...</td>\n",
       "    </tr>\n",
       "    <tr>\n",
       "      <th>165769</th>\n",
       "      <td>840</td>\n",
       "      <td>413</td>\n",
       "      <td>1</td>\n",
       "      <td>0</td>\n",
       "    </tr>\n",
       "    <tr>\n",
       "      <th>165781</th>\n",
       "      <td>840</td>\n",
       "      <td>421</td>\n",
       "      <td>1</td>\n",
       "      <td>0</td>\n",
       "    </tr>\n",
       "    <tr>\n",
       "      <th>165782</th>\n",
       "      <td>840</td>\n",
       "      <td>829</td>\n",
       "      <td>1</td>\n",
       "      <td>0</td>\n",
       "    </tr>\n",
       "    <tr>\n",
       "      <th>165796</th>\n",
       "      <td>840</td>\n",
       "      <td>666</td>\n",
       "      <td>1</td>\n",
       "      <td>0</td>\n",
       "    </tr>\n",
       "    <tr>\n",
       "      <th>165798</th>\n",
       "      <td>840</td>\n",
       "      <td>637</td>\n",
       "      <td>1</td>\n",
       "      <td>0</td>\n",
       "    </tr>\n",
       "  </tbody>\n",
       "</table>\n",
       "<p>36156 rows × 4 columns</p>\n",
       "</div>"
      ],
      "text/plain": [
       "        drug_i  drug_j  label1  label2\n",
       "0            0      31       0       1\n",
       "1            0      38       0       6\n",
       "2            0     284       0       1\n",
       "3            0     216       0       1\n",
       "4            0     384       0      10\n",
       "...        ...     ...     ...     ...\n",
       "165769     840     413       1       0\n",
       "165781     840     421       1       0\n",
       "165782     840     829       1       0\n",
       "165796     840     666       1       0\n",
       "165798     840     637       1       0\n",
       "\n",
       "[36156 rows x 4 columns]"
      ]
     },
     "execution_count": 8,
     "metadata": {},
     "output_type": "execute_result"
    }
   ],
   "source": [
    "l = 0\n",
    "drug_edges.query(f\"label1 == {l} | label2 == {l}\")"
   ]
  },
  {
   "cell_type": "code",
   "execution_count": 9,
   "id": "4c3ad8e0-37a2-4053-a847-e7362c33eaa3",
   "metadata": {
    "tags": []
   },
   "outputs": [],
   "source": [
    "drug_edges.to_csv(\"../input/dataset/edges/edge_with_type.txt\", index = False)"
   ]
  },
  {
   "cell_type": "code",
   "execution_count": null,
   "id": "c2286317-cef3-47ac-8752-8401e72e3d0e",
   "metadata": {},
   "outputs": [],
   "source": []
  },
  {
   "cell_type": "markdown",
   "id": "1dd3fd56-e08c-4cc4-82a4-e98141556a57",
   "metadata": {
    "tags": []
   },
   "source": [
    "# Body Part"
   ]
  },
  {
   "cell_type": "code",
   "execution_count": 10,
   "id": "3dce5da3-a3a0-4d9f-b0b5-4b7f93bd049a",
   "metadata": {
    "tags": []
   },
   "outputs": [],
   "source": [
    "edge_type = pd.read_csv(\"../input/dataset/edges/edge_with_type.txt\")"
   ]
  },
  {
   "cell_type": "code",
   "execution_count": 21,
   "id": "8340c7f4-c764-4546-94f9-66d04ac60a2f",
   "metadata": {
    "tags": []
   },
   "outputs": [
    {
     "name": "stdout",
     "output_type": "stream",
     "text": [
      "fold0 created\n",
      "Loading necessary files...\n",
      "This might take a while.\n",
      "Processing graphs...\n"
     ]
    },
    {
     "name": "stderr",
     "output_type": "stream",
     "text": [
      "100%|██████████████████████████████████████████████████████████████████| 1/1 [00:00<00:00, 13617.87it/s]\n"
     ]
    },
    {
     "name": "stdout",
     "output_type": "stream",
     "text": [
      "Converting graphs into PyG objects...\n"
     ]
    },
    {
     "name": "stderr",
     "output_type": "stream",
     "text": [
      "100%|███████████████████████████████████████████████████████████████████| 1/1 [00:00<00:00, 7626.01it/s]\n"
     ]
    }
   ],
   "source": [
    "import torch\n",
    "from torch_geometric.utils import to_undirected, coalesce\n",
    "from ogb.io.read_graph_pyg import read_graph_pyg\n",
    "from torch_geometric.data import Data\n",
    "from torch_geometric.transforms import ToUndirected, RandomLinkSplit\n",
    "\n",
    "def train_test_split_edges(data, sr = 1):\n",
    "    assert data.num_nodes is not None\n",
    "    assert data.edge_index is not None\n",
    "\n",
    "    num_nodes = data.num_nodes\n",
    "    row, col = data.edge_index\n",
    "    edge_attr = data.edge_attr\n",
    "\n",
    "    # Return upper triangular portion.\n",
    "    mask = row < col\n",
    "    row, col = row[mask], col[mask]\n",
    "\n",
    "    if edge_attr is not None:\n",
    "        edge_attr = edge_attr[mask]\n",
    "\n",
    "    # Positive edges.\n",
    "    zero_indices = (edge_attr == 0).nonzero()\n",
    "    one_indices = (edge_attr == 1).nonzero()\n",
    "\n",
    "    train_tensor = zero_indices.flatten()\n",
    "    test_tensor = one_indices.flatten()\n",
    "    \n",
    "    r, c = row[test_tensor], col[test_tensor]\n",
    "    data.test_pos_edge_index = torch.stack([r, c], dim=0)\n",
    "\n",
    "    r, c = row[train_tensor], col[train_tensor]\n",
    "    data.train_pos_edge_index = torch.stack([r, c], dim=0)\n",
    "    \n",
    "    if edge_attr is not None:\n",
    "        out = to_undirected(data.train_pos_edge_index, edge_attr[train_tensor])\n",
    "        data.train_pos_edge_index, _ = out\n",
    "\n",
    "    # Negative edges.\n",
    "    n_t = test_tensor.size(0) * sr\n",
    "    n_tr = train_tensor.size(0) * sr\n",
    "    #print(n_t, n_tr)\n",
    "    \n",
    "    neg_adj_mask = torch.ones(num_nodes, num_nodes, dtype=torch.uint8)\n",
    "    neg_adj_mask = neg_adj_mask.triu(diagonal=1).to(torch.bool)\n",
    "    neg_adj_mask[row, col] = 0\n",
    "\n",
    "    neg_row, neg_col = neg_adj_mask.nonzero(as_tuple=False).t()\n",
    "    perm = torch.randperm(neg_row.size(0) * sr)\n",
    "    neg_row, neg_col = neg_row[perm], neg_col[perm]\n",
    "    \n",
    "    # assigning neg edges\n",
    "    row, col = neg_row[:n_t], neg_col[:n_t]\n",
    "    data.test_neg_edge_index = torch.stack([row, col], dim=0)\n",
    "    row, col = neg_row[n_t: n_t + n_tr], neg_col[n_t: n_t + n_tr]\n",
    "    data.train_neg_edge_index = torch.stack([row, col], dim=0)\n",
    "    \n",
    "    return data\n",
    "\n",
    "for fold in range(12):\n",
    "    if fold == 1:\n",
    "        continue\n",
    "    edge_type[\"label\"] = 0\n",
    "    test_idx = edge_type.query(f\"(label1 == {fold}) | (label2 == {fold})\").index\n",
    "    edge_type.loc[test_idx, \"label\"] = 1\n",
    "    # print(fold, \"\\n\", edge_type.label.value_counts())\n",
    "    edge_type[\"label\"].to_csv(\"../input/dataset/ogbl_dkp/ddi/edge-feat.csv.gz\", header = None, compression = \"gzip\", index = False)\n",
    "    edge_type[[\"drug_i\", \"drug_j\"]].to_csv(\"../input/dataset/ogbl_dkp/ddi/edge.csv.gz\", header = None, compression = \"gzip\", index = False)\n",
    "    num_edges = pd.DataFrame({\"data\": [edge_type.shape[0]]})\n",
    "    num_edges.to_csv(\"../input/dataset/ogbl_dkp/ddi/num-edge-list.csv.gz\", header = None, compression = \"gzip\", index = False)\n",
    "    print(f\"fold{fold} created\")\n",
    "    \n",
    "    data = read_graph_pyg(\n",
    "            \"../input/dataset/ogbl_dkp/ddi/\",\n",
    "            add_inverse_edge=False,\n",
    "            additional_node_files=[],\n",
    "            additional_edge_files=[],\n",
    "            binary=False,\n",
    "    )[0]\n",
    "    data = train_test_split_edges(data)\n",
    "\n",
    "    train = {\"edge\": data[\"train_pos_edge_index\"], \"edge_neg\": data[\"train_neg_edge_index\"]}\n",
    "    test = {\"edge\": data[\"test_pos_edge_index\"], \"edge_neg\": data[\"test_neg_edge_index\"]}\n",
    "\n",
    "    base_path = f\"../input/dataset/ogbl_dkp/split/fold{fold}\"\n",
    "    torch.save(train, f\"{base_path}/train.pt\")\n",
    "    torch.save(test, f\"{base_path}/test.pt\")\n",
    "    break"
   ]
  },
  {
   "cell_type": "code",
   "execution_count": null,
   "id": "1be74720-b824-416d-8c41-bfe4183553a0",
   "metadata": {},
   "outputs": [],
   "source": [
    "# subset of 11K\n",
    "# store the data"
   ]
  },
  {
   "cell_type": "code",
   "execution_count": 75,
   "id": "d33a6ab0-2982-4e9e-9c3b-b07a04c45dc5",
   "metadata": {
    "tags": []
   },
   "outputs": [],
   "source": []
  },
  {
   "cell_type": "code",
   "execution_count": 10,
   "id": "61744c22-9920-4987-b4fd-5facff53a4f2",
   "metadata": {
    "tags": []
   },
   "outputs": [
    {
     "name": "stderr",
     "output_type": "stream",
     "text": [
      "/home/devildev/.local/share/miniconda3/envs/bioner/lib/python3.9/site-packages/tqdm/auto.py:21: TqdmWarning: IProgress not found. Please update jupyter and ipywidgets. See https://ipywidgets.readthedocs.io/en/stable/user_install.html\n",
      "  from .autonotebook import tqdm as notebook_tqdm\n"
     ]
    },
    {
     "name": "stdout",
     "output_type": "stream",
     "text": [
      "Loading necessary files...\n",
      "This might take a while.\n",
      "Processing graphs...\n"
     ]
    },
    {
     "name": "stderr",
     "output_type": "stream",
     "text": [
      "100%|█████████████████████████████| 1/1 [00:00<00:00, 21290.88it/s]\n"
     ]
    },
    {
     "name": "stdout",
     "output_type": "stream",
     "text": [
      "Converting graphs into PyG objects...\n"
     ]
    },
    {
     "name": "stderr",
     "output_type": "stream",
     "text": [
      "100%|██████████████████████████████| 1/1 [00:00<00:00, 5275.85it/s]\n"
     ]
    }
   ],
   "source": [
    "\n"
   ]
  },
  {
   "cell_type": "code",
   "execution_count": 11,
   "id": "f4264704-5697-453e-9e17-b8f8bc215653",
   "metadata": {
    "tags": []
   },
   "outputs": [
    {
     "data": {
      "text/plain": [
       "Data(num_nodes=841, edge_index=[2, 165802], edge_attr=[165802, 1])"
      ]
     },
     "execution_count": 11,
     "metadata": {},
     "output_type": "execute_result"
    }
   ],
   "source": [
    "data"
   ]
  },
  {
   "cell_type": "code",
   "execution_count": 77,
   "id": "88e2d33a-fe01-4f07-aea4-842f64af3288",
   "metadata": {
    "tags": []
   },
   "outputs": [],
   "source": [
    "def train_test_split_edges(data, sr = 1):\n",
    "    assert data.num_nodes is not None\n",
    "    assert data.edge_index is not None\n",
    "\n",
    "    num_nodes = data.num_nodes\n",
    "    row, col = data.edge_index\n",
    "    edge_attr = data.edge_attr\n",
    "\n",
    "    # Return upper triangular portion.\n",
    "    mask = row < col\n",
    "    row, col = row[mask], col[mask]\n",
    "\n",
    "    if edge_attr is not None:\n",
    "        edge_attr = edge_attr[mask]\n",
    "\n",
    "    # Positive edges.\n",
    "    zero_indices = (edge_attr == 0).nonzero()\n",
    "    one_indices = (edge_attr == 1).nonzero()\n",
    "\n",
    "    train_tensor = zero_indices.flatten()\n",
    "    test_tensor = one_indices.flatten()\n",
    "    \n",
    "    r, c = row[test_tensor], col[test_tensor]\n",
    "    data.test_pos_edge_index = torch.stack([r, c], dim=0)\n",
    "\n",
    "    r, c = row[train_tensor], col[train_tensor]\n",
    "    data.train_pos_edge_index = torch.stack([r, c], dim=0)\n",
    "    \n",
    "    if edge_attr is not None:\n",
    "        out = to_undirected(data.train_pos_edge_index, edge_attr[train_tensor])\n",
    "        data.train_pos_edge_index, _ = out\n",
    "\n",
    "    # Negative edges.\n",
    "    n_t = test_tensor.size(0) * sr\n",
    "    n_tr = train_tensor.size(0) * sr\n",
    "    print(n_t, n_tr)\n",
    "    \n",
    "    neg_adj_mask = torch.ones(num_nodes, num_nodes, dtype=torch.uint8)\n",
    "    neg_adj_mask = neg_adj_mask.triu(diagonal=1).to(torch.bool)\n",
    "    neg_adj_mask[row, col] = 0\n",
    "\n",
    "    neg_row, neg_col = neg_adj_mask.nonzero(as_tuple=False).t()\n",
    "    perm = torch.randperm(neg_row.size(0) * sr)\n",
    "    neg_row, neg_col = neg_row[perm], neg_col[perm]\n",
    "    \n",
    "    # assigning neg edges\n",
    "    row, col = neg_row[:n_t], neg_col[:n_t]\n",
    "    data.test_neg_edge_index = torch.stack([row, col], dim=0)\n",
    "    row, col = neg_row[n_t: n_t + n_tr], neg_col[n_t: n_t + n_tr]\n",
    "    data.train_neg_edge_index = torch.stack([row, col], dim=0)\n",
    "    \n",
    "    return data"
   ]
  },
  {
   "cell_type": "code",
   "execution_count": 81,
   "id": "297c2288-ac83-4631-b5c3-a7ed95cae660",
   "metadata": {
    "tags": []
   },
   "outputs": [],
   "source": [
    "data = train_test_split_edges(data)\n",
    "\n",
    "train = {\"edge\": data[\"train_pos_edge_index\"], \"edge_neg\": data[\"train_neg_edge_index\"]}\n",
    "test = {\"edge\": data[\"test_pos_edge_index\"], \"edge_neg\": data[\"test_neg_edge_index\"]}\n",
    "\n",
    "train\n",
    "\n",
    "base_path = \"../input/dataset/ogbl_dkp/split/body\"\n",
    "torch.save(train, f\"{base_path}/train.pt\")\n",
    "torch.save(test, f\"{base_path}/test.pt\")"
   ]
  },
  {
   "cell_type": "code",
   "execution_count": null,
   "id": "ddb13d33-73ed-421c-98f9-0c19d1400691",
   "metadata": {},
   "outputs": [],
   "source": []
  }
 ],
 "metadata": {
  "kernelspec": {
   "display_name": "bioner",
   "language": "python",
   "name": "bioner"
  },
  "language_info": {
   "codemirror_mode": {
    "name": "ipython",
    "version": 3
   },
   "file_extension": ".py",
   "mimetype": "text/x-python",
   "name": "python",
   "nbconvert_exporter": "python",
   "pygments_lexer": "ipython3",
   "version": "3.9.16"
  }
 },
 "nbformat": 4,
 "nbformat_minor": 5
}
