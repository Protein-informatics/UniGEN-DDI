{
 "cells": [
  {
   "cell_type": "code",
   "execution_count": 1,
   "metadata": {
    "tags": []
   },
   "outputs": [
    {
     "name": "stderr",
     "output_type": "stream",
     "text": [
      "/home/devildev/.local/share/miniconda3/envs/bioner/lib/python3.9/site-packages/tqdm/auto.py:21: TqdmWarning: IProgress not found. Please update jupyter and ipywidgets. See https://ipywidgets.readthedocs.io/en/stable/user_install.html\n",
      "  from .autonotebook import tqdm as notebook_tqdm\n"
     ]
    }
   ],
   "source": [
    "import pandas as pd\n",
    "import numpy as np\n",
    "import torch\n",
    "import math\n",
    "import torch\n",
    "import torch_geometric\n",
    "from torch_geometric.utils import to_undirected\n",
    "from ogb.io.read_graph_pyg import read_graph_pyg\n",
    "from torch_geometric.data import Data\n",
    "from torch_geometric.transforms import ToUndirected, RandomLinkSplit"
   ]
  },
  {
   "cell_type": "markdown",
   "metadata": {
    "tags": []
   },
   "source": [
    "# Body Part"
   ]
  },
  {
   "cell_type": "code",
   "execution_count": 2,
   "metadata": {
    "tags": []
   },
   "outputs": [],
   "source": [
    "edge_type = pd.read_csv(\"../input/dataset/edges/edge_type.txt\", names = [\"type\"], sep = \" \")"
   ]
  },
  {
   "cell_type": "code",
   "execution_count": 3,
   "metadata": {
    "tags": []
   },
   "outputs": [],
   "source": [
    "edge_type.to_csv(\"../input/dataset/ogbl_ddi/raw/edge-feat.csv.gz\", header = None, compression = \"gzip\", index = False)"
   ]
  },
  {
   "cell_type": "code",
   "execution_count": 2,
   "metadata": {
    "tags": []
   },
   "outputs": [
    {
     "name": "stdout",
     "output_type": "stream",
     "text": [
      "Loading necessary files...\n",
      "This might take a while.\n",
      "Processing graphs...\n"
     ]
    },
    {
     "name": "stderr",
     "output_type": "stream",
     "text": [
      "100%|██████████████████████████████████████████████████████████| 1/1 [00:00<00:00, 132.44it/s]\n"
     ]
    },
    {
     "name": "stdout",
     "output_type": "stream",
     "text": [
      "Converting graphs into PyG objects...\n"
     ]
    },
    {
     "name": "stderr",
     "output_type": "stream",
     "text": [
      "100%|█████████████████████████████████████████████████████████| 1/1 [00:00<00:00, 3771.86it/s]\n"
     ]
    }
   ],
   "source": [
    "data = read_graph_pyg(\n",
    "        \"../input/dataset/ogbl_ddi/raw/\",\n",
    "        add_inverse_edge=True,\n",
    "        additional_node_files=[],\n",
    "        additional_edge_files=[],\n",
    "        binary=False,\n",
    ")[0]"
   ]
  },
  {
   "cell_type": "code",
   "execution_count": 15,
   "metadata": {
    "tags": []
   },
   "outputs": [],
   "source": [
    "def train_test_split_edges(data, sr = 1):\n",
    "    assert data.num_nodes is not None\n",
    "    assert data.edge_index is not None\n",
    "\n",
    "    num_nodes = data.num_nodes\n",
    "    row, col = data.edge_index\n",
    "    edge_attr = data.edge_attr\n",
    "\n",
    "    # Return upper triangular portion.\n",
    "    mask = row < col\n",
    "    row, col = row[mask], col[mask]\n",
    "\n",
    "    if edge_attr is not None:\n",
    "        edge_attr = edge_attr[mask]\n",
    "\n",
    "    # Positive edges.\n",
    "    zero_indices = (edge_attr == 0).nonzero()\n",
    "    one_indices = (edge_attr == 1).nonzero()\n",
    "    two_indices = (edge_attr == 2).nonzero()\n",
    "\n",
    "    train_tensor = zero_indices.flatten()\n",
    "    val_tensor = one_indices.flatten()\n",
    "    test_tensor = two_indices.flatten()\n",
    "    \n",
    "    r, c = row[val_tensor], col[val_tensor]\n",
    "    data.val_pos_edge_index = torch.stack([r, c], dim=0)\n",
    "\n",
    "    r, c = row[test_tensor], col[test_tensor]\n",
    "    data.test_pos_edge_index = torch.stack([r, c], dim=0)\n",
    "\n",
    "    r, c = row[train_tensor], col[train_tensor]\n",
    "    data.train_pos_edge_index = torch.stack([r, c], dim=0)\n",
    "    if edge_attr is not None:\n",
    "        out = to_undirected(data.train_pos_edge_index, edge_attr[train_tensor])\n",
    "        data.train_pos_edge_index, _ = out\n",
    "\n",
    "    # Negative edges.\n",
    "    n_v = val_tensor.size(0) * sr\n",
    "    n_t = test_tensor.size(0) * sr\n",
    "    neg_adj_mask = torch.ones(num_nodes, num_nodes, dtype=torch.uint8)\n",
    "    neg_adj_mask = neg_adj_mask.triu(diagonal=1).to(torch.bool)\n",
    "    neg_adj_mask[row, col] = 0\n",
    "\n",
    "    neg_row, neg_col = neg_adj_mask.nonzero(as_tuple=False).t()\n",
    "    perm = torch.randperm(neg_row.size(0) * sr)\n",
    "    neg_row, neg_col = neg_row[perm], neg_col[perm]\n",
    "\n",
    "    row, col = neg_row[:n_v], neg_col[:n_v]\n",
    "    data.val_neg_edge_index = torch.stack([row, col], dim=0)\n",
    "\n",
    "    row, col = neg_row[n_v:n_v + n_t], neg_col[n_v:n_v + n_t]\n",
    "    data.test_neg_edge_index = torch.stack([row, col], dim=0)\n",
    "\n",
    "    row, col = neg_row[n_v + n_t:], neg_col[n_v + n_t:]\n",
    "    data.train_neg_edge_index = torch.stack([row, col], dim=0)\n",
    "    \n",
    "    return data"
   ]
  },
  {
   "cell_type": "code",
   "execution_count": 16,
   "metadata": {
    "tags": []
   },
   "outputs": [],
   "source": [
    "data = train_test_split_edges(data)"
   ]
  },
  {
   "cell_type": "code",
   "execution_count": 17,
   "metadata": {
    "tags": []
   },
   "outputs": [
    {
     "data": {
      "text/plain": [
       "Data(num_nodes=841, edge_index=[2, 331604], edge_attr=[331604, 1], val_pos_edge_index=[2, 23544], test_pos_edge_index=[2, 33028], train_pos_edge_index=[2, 137516], train_pos_edge_attr=[137516, 1], val_neg_edge_index=[2, 23544], test_neg_edge_index=[2, 33028], train_neg_edge_index=[2, 213747])"
      ]
     },
     "execution_count": 17,
     "metadata": {},
     "output_type": "execute_result"
    }
   ],
   "source": [
    "data"
   ]
  },
  {
   "cell_type": "code",
   "execution_count": 18,
   "metadata": {
    "tags": []
   },
   "outputs": [],
   "source": [
    "train = {\"edge\": data[\"train_pos_edge_index\"], \"edge_neg\": data[\"train_neg_edge_index\"]}\n",
    "val = {\"edge\": data[\"val_pos_edge_index\"], \"edge_neg\": data[\"val_neg_edge_index\"]}\n",
    "test = {\"edge\": data[\"test_pos_edge_index\"], \"edge_neg\": data[\"test_neg_edge_index\"]}"
   ]
  },
  {
   "cell_type": "code",
   "execution_count": 14,
   "metadata": {
    "tags": []
   },
   "outputs": [
    {
     "data": {
      "text/plain": [
       "{'edge': tensor([[  0,   0,   0,  ..., 840, 840, 840],\n",
       "         [ 31,  35,  38,  ..., 831, 832, 836]]),\n",
       " 'edge_neg': tensor([], size=(2, 0), dtype=torch.int64)}"
      ]
     },
     "execution_count": 14,
     "metadata": {},
     "output_type": "execute_result"
    }
   ],
   "source": [
    "train"
   ]
  },
  {
   "cell_type": "code",
   "execution_count": 19,
   "metadata": {
    "tags": []
   },
   "outputs": [],
   "source": [
    "base_path = \"../input/dataset/ogbl_ddi/split/body\"\n",
    "torch.save(train, f\"{base_path}/train.pt\")\n",
    "torch.save(val, f\"{base_path}/val.pt\")\n",
    "torch.save(test, f\"{base_path}/test.pt\")"
   ]
  },
  {
   "cell_type": "code",
   "execution_count": null,
   "metadata": {},
   "outputs": [],
   "source": []
  },
  {
   "cell_type": "markdown",
   "metadata": {
    "jp-MarkdownHeadingCollapsed": true,
    "tags": []
   },
   "source": [
    "# Random"
   ]
  },
  {
   "cell_type": "code",
   "execution_count": 2,
   "metadata": {
    "tags": []
   },
   "outputs": [
    {
     "name": "stdout",
     "output_type": "stream",
     "text": [
      "Loading necessary files...\n",
      "This might take a while.\n",
      "Processing graphs...\n"
     ]
    },
    {
     "name": "stderr",
     "output_type": "stream",
     "text": [
      "100%|███████████████████████████████████████████████████████████████████████████████████████████████████| 1/1 [00:00<00:00, 115.43it/s]\n"
     ]
    },
    {
     "name": "stdout",
     "output_type": "stream",
     "text": [
      "Converting graphs into PyG objects...\n"
     ]
    },
    {
     "name": "stderr",
     "output_type": "stream",
     "text": [
      "100%|██████████████████████████████████████████████████████████████████████████████████████████████████| 1/1 [00:00<00:00, 6553.60it/s]\n"
     ]
    }
   ],
   "source": [
    "data = read_graph_pyg(\n",
    "        \"../input/ogbl_ddi/raw2/\",\n",
    "        add_inverse_edge=True,\n",
    "        additional_node_files=[],\n",
    "        additional_edge_files=[],\n",
    "        binary=False,\n",
    ")[0]"
   ]
  },
  {
   "cell_type": "code",
   "execution_count": 3,
   "metadata": {
    "tags": []
   },
   "outputs": [
    {
     "data": {
      "text/plain": [
       "tensor([[   1, 3005,    1,  ...,  466, 3006,  345],\n",
       "        [3005,    1, 2958,  ..., 3005,  345, 3006]])"
      ]
     },
     "execution_count": 3,
     "metadata": {},
     "output_type": "execute_result"
    }
   ],
   "source": [
    "data[\"edge_index\"]"
   ]
  },
  {
   "cell_type": "code",
   "execution_count": 5,
   "metadata": {
    "tags": []
   },
   "outputs": [
    {
     "name": "stdout",
     "output_type": "stream",
     "text": [
      "Loading necessary files...\n",
      "This might take a while.\n",
      "Processing graphs...\n"
     ]
    },
    {
     "name": "stderr",
     "output_type": "stream",
     "text": [
      "100%|█████████████████████████████| 1/1 [00:00<00:00, 24528.09it/s]\n"
     ]
    },
    {
     "name": "stdout",
     "output_type": "stream",
     "text": [
      "Converting graphs into PyG objects...\n"
     ]
    },
    {
     "name": "stderr",
     "output_type": "stream",
     "text": [
      "100%|██████████████████████████████| 1/1 [00:00<00:00, 5983.32it/s]\n"
     ]
    }
   ],
   "source": [
    "drug = read_graph_pyg(\n",
    "        \"../input/dataset/ogbl_ddi/raw\",\n",
    "        add_inverse_edge=False,\n",
    "        additional_node_files=[],\n",
    "        additional_edge_files=[],\n",
    "        binary=False,\n",
    ")[0]"
   ]
  },
  {
   "cell_type": "code",
   "execution_count": 6,
   "metadata": {
    "tags": []
   },
   "outputs": [
    {
     "data": {
      "text/plain": [
       "True"
      ]
     },
     "execution_count": 6,
     "metadata": {},
     "output_type": "execute_result"
    }
   ],
   "source": [
    "drug.validate()"
   ]
  },
  {
   "cell_type": "code",
   "execution_count": 8,
   "metadata": {
    "tags": []
   },
   "outputs": [
    {
     "name": "stderr",
     "output_type": "stream",
     "text": [
      "/home/devildev/.local/share/miniconda3/envs/bioner/lib/python3.9/site-packages/torch_geometric/transforms/random_link_split.py:220: UserWarning: There are not enough negative edges to satisfy the provided sampling ratio. The ratio will be adjusted to 0.82.\n",
      "  warnings.warn(\n",
      "/home/devildev/.local/share/miniconda3/envs/bioner/lib/python3.9/site-packages/torch_geometric/transforms/random_link_split.py:220: UserWarning: There are not enough negative edges to satisfy the provided sampling ratio. The ratio will be adjusted to 0.65.\n",
      "  warnings.warn(\n"
     ]
    }
   ],
   "source": [
    "for ratio in [1,2,3,4,5]:\n",
    "    transform = RandomLinkSplit(\n",
    "        num_val=0.1,\n",
    "        num_test=0.1,\n",
    "        is_undirected=True,\n",
    "        neg_sampling_ratio=ratio,\n",
    "        add_negative_train_samples=True,\n",
    "        split_labels=True,\n",
    "    )\n",
    "    train_data, val_data, test_data = transform(drug)\n",
    "    base_path = f\"../input/dataset/ogbl_ddi/split/sr{ratio}\"\n",
    "    train = {\"edge\": train_data[\"pos_edge_label_index\"], \"edge_neg\": train_data[\"neg_edge_label_index\"]}\n",
    "    val = {\"edge\": val_data[\"pos_edge_label_index\"], \"edge_neg\": val_data[\"neg_edge_label_index\"]}\n",
    "    test = {\"edge\": test_data[\"pos_edge_label_index\"], \"edge_neg\": test_data[\"neg_edge_label_index\"]}\n",
    "    torch.save(train, f\"{base_path}/train.pt\")\n",
    "    torch.save(val, f\"{base_path}/val.pt\")\n",
    "    torch.save(test, f\"{base_path}/test.pt\")"
   ]
  },
  {
   "cell_type": "code",
   "execution_count": null,
   "metadata": {},
   "outputs": [],
   "source": []
  }
 ],
 "metadata": {
  "kernelspec": {
   "display_name": "bioner",
   "language": "python",
   "name": "bioner"
  },
  "language_info": {
   "codemirror_mode": {
    "name": "ipython",
    "version": 3
   },
   "file_extension": ".py",
   "mimetype": "text/x-python",
   "name": "python",
   "nbconvert_exporter": "python",
   "pygments_lexer": "ipython3",
   "version": "3.9.16"
  }
 },
 "nbformat": 4,
 "nbformat_minor": 4
}
