{
 "cells": [
  {
   "cell_type": "code",
   "execution_count": 3,
   "id": "feb2eab7-efe3-4b9f-ac83-44bf5863f74d",
   "metadata": {
    "tags": []
   },
   "outputs": [],
   "source": [
    "import pandas as pd"
   ]
  },
  {
   "cell_type": "code",
   "execution_count": 29,
   "id": "9c02dda0-0ac3-4078-a142-7e420b5eb25b",
   "metadata": {
    "tags": []
   },
   "outputs": [],
   "source": [
    "df = pd.read_csv(\"dataset/Node_Codes.csv\", names = [\"node\", \"id\"])\n",
    "new_df = df.drop(df.index[841:1460]).reset_index(drop = True)\n",
    "new_df = new_df.reset_index().set_index(\"id\")\n",
    "mapping = new_df.to_dict()[\"index\"]"
   ]
  },
  {
   "cell_type": "code",
   "execution_count": 32,
   "id": "b0622862-c0d3-44d0-8276-fb88536e7540",
   "metadata": {
    "tags": []
   },
   "outputs": [
    {
     "data": {
      "text/plain": [
       "1380"
      ]
     },
     "execution_count": 32,
     "metadata": {},
     "output_type": "execute_result"
    }
   ],
   "source": [
    "mapping[2000]"
   ]
  },
  {
   "cell_type": "code",
   "execution_count": 40,
   "id": "c78b82d6-e7ff-45bc-958f-87ec63580034",
   "metadata": {
    "tags": []
   },
   "outputs": [],
   "source": [
    "dd = pd.read_csv(\"dataset/drug_drug.txt\", sep = \" \", names = [\"drug1\", \"drug2\"])\n",
    "dd[\"drug1\"] = dd[\"drug1\"].map(mapping)\n",
    "dd[\"drug2\"] = dd[\"drug2\"].map(mapping)\n",
    "dd.to_csv(\"dataset_wo_subst/drug_drug.txt\", sep = \" \", index = False, header = False)"
   ]
  },
  {
   "cell_type": "code",
   "execution_count": 41,
   "id": "70d7fb48-9b96-4999-89b2-c5c9ad6bffd3",
   "metadata": {
    "tags": []
   },
   "outputs": [],
   "source": [
    "dd = pd.read_csv(\"dataset/drug_enzyme.txt\", sep = \" \", names = [\"drug\", \"enzyme\"])\n",
    "dd[\"drug\"] = dd[\"drug\"].map(mapping)\n",
    "dd[\"enzyme\"] = dd[\"enzyme\"].map(mapping)\n",
    "dd.to_csv(\"dataset_wo_subst/drug_enzyme.txt\", sep = \" \", index = False, header = False)"
   ]
  },
  {
   "cell_type": "code",
   "execution_count": 42,
   "id": "6dc56e5a-c495-42eb-8263-ee79e989b224",
   "metadata": {
    "tags": []
   },
   "outputs": [],
   "source": [
    "dd = pd.read_csv(\"dataset/drug_path.txt\", sep = \" \", names = [\"drug\", \"path\"])\n",
    "dd[\"drug\"] = dd[\"drug\"].map(mapping)\n",
    "dd[\"path\"] = dd[\"path\"].map(mapping)\n",
    "dd.to_csv(\"dataset_wo_subst/drug_path.txt\", sep = \" \", index = False, header = False)"
   ]
  },
  {
   "cell_type": "code",
   "execution_count": 43,
   "id": "7370346e-385c-496e-b3b2-0f8b3899a837",
   "metadata": {
    "tags": []
   },
   "outputs": [],
   "source": [
    "dd = pd.read_csv(\"dataset/drug_target.txt\", sep = \" \", names = [\"drug\", \"target\"])\n",
    "dd[\"drug\"] = dd[\"drug\"].map(mapping)\n",
    "dd[\"target\"] = dd[\"target\"].map(mapping)\n",
    "dd.to_csv(\"dataset_wo_subst/drug_target.txt\", sep = \" \", index = False, header = False)"
   ]
  },
  {
   "cell_type": "code",
   "execution_count": 50,
   "id": "70d68d9a-0f91-4c86-bf14-8090b5390ccc",
   "metadata": {
    "tags": []
   },
   "outputs": [],
   "source": [
    "new_df.iloc[:841].to_csv(\"dataset_wo_subst/id_drug.txt\", sep = \" \", index = False, header = False)"
   ]
  },
  {
   "cell_type": "code",
   "execution_count": 53,
   "id": "7ec21d33-89c3-4249-bd74-727bc10a982d",
   "metadata": {
    "tags": []
   },
   "outputs": [],
   "source": [
    "new_df.to_csv(\"dataset_wo_subst/Node_Codes.csv\", index = False, header = False)"
   ]
  },
  {
   "cell_type": "code",
   "execution_count": null,
   "id": "8228ca9e-24d6-4443-9417-a58cc65f9efa",
   "metadata": {},
   "outputs": [],
   "source": []
  }
 ],
 "metadata": {
  "kernelspec": {
   "display_name": "bioner",
   "language": "python",
   "name": "bioner"
  },
  "language_info": {
   "codemirror_mode": {
    "name": "ipython",
    "version": 3
   },
   "file_extension": ".py",
   "mimetype": "text/x-python",
   "name": "python",
   "nbconvert_exporter": "python",
   "pygments_lexer": "ipython3",
   "version": "3.9.16"
  }
 },
 "nbformat": 4,
 "nbformat_minor": 5
}
